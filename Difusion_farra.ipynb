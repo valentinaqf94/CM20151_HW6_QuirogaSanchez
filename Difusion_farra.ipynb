{
 "cells": [
  {
   "cell_type": "markdown",
   "metadata": {},
   "source": [
    "# Basics of Computational Fluid Dynamics"
   ]
  },
  {
   "cell_type": "markdown",
   "metadata": {},
   "source": [
    "We have all the tools to address a physical problem of relevance in all the sciences and engineering: how does a fluid behave?\n",
    "\n",
    "From the perspective we are using in this course we want to know what is the equation that should encode a fluid's behavior. That equation is the Navier-Stokes equation.\n",
    "\n",
    "$$\n",
    "\\frac{\\partial\\vec{V}}{\\partial t}+ (\\vec{V}\\cdot\\nabla)\\vec{V} = -\\frac{1}{\\rho}\\nabla p + \\nu\\nabla^2\\vec{V}\n",
    "$$\n",
    "\n",
    "where $\\vec{V}$ is the velocity field describing the fluid motion, $\\rho$ is the density, $p$ is the pressure and $\\nu$ is a constant known as viscosity.\n",
    "\n",
    "Just to make the discussion a bit more concrete I will write this equation in 1D\n",
    "\n",
    "$$\n",
    "\\frac{\\partial V_x}{\\partial t} + V_x\\frac{\\partial V_x}{\\partial x} = -\\frac{1}{\\rho}\\frac{\\partial p}{\\partial x} + \\nu\\frac{\\partial^2 V_x}{\\partial x^2}\n",
    "$$\n",
    "\n",
    "In this equation $V_x\\frac{\\partial V_x}{\\partial x}$ represents convection and $\\nu\\frac{\\partial^2 V_x}{\\partial x^2}$ represents difussion."
   ]
  },
  {
   "cell_type": "markdown",
   "metadata": {},
   "source": [
    "## The plan"
   ]
  },
  {
   "cell_type": "markdown",
   "metadata": {},
   "source": [
    "The plan to solve this problem is write each derivative as finite differences expressions. This will allows us to discretize\n",
    "time and space (i.e. define $\\Delta t$ and $\\Delta x$) to find how our function $V_x$ evolves in time and space\n",
    "\n",
    "\n",
    "We are going to study the following processes in increasing complexity\n",
    "\n",
    "- Linear convection\n",
    "- Non-linear convection\n",
    "- Difussion\n",
    "- Non-linear convection + difussion (Burgers equation)\n",
    "\n",
    "Please note tat this notebook follows the structure of Prof. Lorena Barba's 12 steps to Navier Stokes:\n",
    "http://nbviewer.ipython.org/github/barbagroup/CFDPython/tree/master/lessons/\n",
    "\n",
    "\n",
    "Diferencias finitas: \n",
    "*DISCRETIZAR r,t\n",
    "*CONDICIONES INICIALES/ C.FRONTERA\n",
    "*EVOLUCIONAR EN EL TIEMPO"
   ]
  },
  {
   "cell_type": "markdown",
   "metadata": {},
   "source": [
    "### Linear convection"
   ]
  },
  {
   "cell_type": "markdown",
   "metadata": {},
   "source": [
    "We want to solve the following equation\n",
    "\n",
    "$$\n",
    "\\frac{\\partial u}{\\partial t} + c\\frac{\\partial u}{\\partial x} = 0\n",
    "$$\n",
    "\n",
    "How do we do it? We discretize the derivatives:\n",
    "\n",
    "$$\n",
    "\\frac{\\partial u}{\\partial x} \\approx \\frac{u_{i}^j -  u_{i-1}^j}{\\Delta x}\n",
    "$$\n",
    "\n",
    "$$\n",
    "\\frac{\\partial u}{\\partial t} \\approx \\frac{u_i^{j+1} -  u_i^j}{\\Delta t}\n",
    "$$\n",
    "\n",
    "superinidice denota tiempo, subindice denota posicion"
   ]
  },
  {
   "cell_type": "markdown",
   "metadata": {},
   "source": [
    "So we can rewrite the equation\n",
    "$$\n",
    "\\frac{u_i^{j+1} -  u_i^j}{\\Delta t} = - c \\frac{u_{i}^j -  u_{i-1}^j}{\\Delta x}\n",
    "$$\n",
    "\n",
    "$$\n",
    "u_{i}^{j+1} = u_{i}^{j} - c\\frac{\\Delta t}{\\Delta x}(u_i^j - u_{i-1}^j) \n",
    "$$\n",
    "\n",
    "We now go for the implementation in Python."
   ]
  },
  {
   "cell_type": "code",
   "execution_count": 2,
   "metadata": {
    "collapsed": false
   },
   "outputs": [
    {
     "name": "stdout",
     "output_type": "stream",
     "text": [
      "Populating the interactive namespace from numpy and matplotlib\n"
     ]
    }
   ],
   "source": [
    "%pylab inline"
   ]
  },
  {
   "cell_type": "code",
   "execution_count": 19,
   "metadata": {
    "collapsed": false
   },
   "outputs": [],
   "source": [
    "n_x = 80 #discretizar en x\n",
    "n_t = 300 #discretiza en t, no necesariamente son iguales los terminos\n",
    "\n",
    "x = linspace(0, 2.0, n_x)\n",
    "u = ones(n_x) #inicializa a u con un arreglo de 1, no 0 \n",
    "\n",
    "dx = x[1]-x[0] #el paso de la malla, puede ser irregular po eso es una funcion \n",
    "dt = 0.001\n",
    "c = 1.0\n",
    "\n",
    "#but now the initial condition is not flat\n",
    "u[where((x<1.25) & (x>0.75))] = 2.0 #funcion escalon, el where saca el indice donde dicha condicion es verdadera"
   ]
  },
  {
   "cell_type": "code",
   "execution_count": null,
   "metadata": {
    "collapsed": false
   },
   "outputs": [],
   "source": []
  },
  {
   "cell_type": "code",
   "execution_count": 21,
   "metadata": {
    "collapsed": false
   },
   "outputs": [],
   "source": [
    "for n in range(n_t):  # loop over time, evolucion del tiempo y el espacio es un for anidado \n",
    "    u_past = u.copy() # el .copy() garantiza que u_past nuevo sea distinto a u, es igual que usar un list(u).  \n",
    "    for i in range(1,n_x-1): #loop over space, poemos la ecuacion de discretizacion \n",
    "        u[i] = u_past[i] - c*dt/dx*(u_past[i]-u_past[i-1])"
   ]
  },
  {
   "cell_type": "code",
   "execution_count": null,
   "metadata": {
    "collapsed": false
   },
   "outputs": [],
   "source": []
  },
  {
   "cell_type": "markdown",
   "metadata": {},
   "source": [
    "## Non-Linear convection"
   ]
  },
  {
   "cell_type": "markdown",
   "metadata": {},
   "source": [
    "Now the equation is a bit different\n",
    "$$\n",
    "\\frac{\\partial u}{\\partial t} + u\\frac{\\partial u}{\\partial x} = 0\n",
    "$$"
   ]
  },
  {
   "cell_type": "code",
   "execution_count": 34,
   "metadata": {
    "collapsed": false
   },
   "outputs": [
    {
     "name": "stdout",
     "output_type": "stream",
     "text": [
      "25.3164556962\n"
     ]
    }
   ],
   "source": [
    "n_x = 80\n",
    "n_t = 300\n",
    "\n",
    "x = linspace(0, 2.0, n_x)\n",
    "u = ones(n_x)\n",
    "\n",
    "dx = x[1]-x[0]\n",
    "dt = 0.001\n",
    "\n",
    "print dx/dt\n",
    "\n",
    "#but now the initial condition is not flat\n",
    "u[where((x<1.25) & (x>0.75))] = 2.0"
   ]
  },
  {
   "cell_type": "code",
   "execution_count": null,
   "metadata": {
    "collapsed": false
   },
   "outputs": [],
   "source": []
  },
  {
   "cell_type": "code",
   "execution_count": 44,
   "metadata": {
    "collapsed": false
   },
   "outputs": [],
   "source": [
    "for n in range(n_t):  # loop over time\n",
    "    u_past = list(u)\n",
    "    for i in range(1,n_x): #loop over space\n",
    "        u[i] = u_past[i] - u_past[i]*dt/dx*(u_past[i]-u_past[i-1])"
   ]
  },
  {
   "cell_type": "code",
   "execution_count": null,
   "metadata": {
    "collapsed": false
   },
   "outputs": [],
   "source": []
  },
  {
   "cell_type": "markdown",
   "metadata": {},
   "source": [
    "## Difusion"
   ]
  },
  {
   "cell_type": "markdown",
   "metadata": {},
   "source": [
    "Now we want to solve the equation\n",
    "$$\n",
    "\\frac{\\partial u}{\\partial t} = \\nu\\frac{\\partial^2 u}{\\partial x^2} \n",
    "$$\n",
    "\n",
    "We already had the discretized version\n",
    "\n",
    "\n",
    "$$\n",
    "\\frac{\\partial u}{\\partial t} \\approx \\frac{u_{i}^{j+1} - u_{i}^{j}}{\\Delta t}\n",
    "$$\n",
    "\n",
    "$$\n",
    "\\frac{\\partial^2 u}{\\partial x^2} \\approx \\frac{u_{i+1}^j - 2 u_{i}^{j} + u_{i-1}^{j}}{(\\Delta x)^2}\n",
    "$$"
   ]
  },
  {
   "cell_type": "markdown",
   "metadata": {},
   "source": [
    "And the finite differences scheme can be found\n",
    "$$\n",
    "\\frac{u_{i}^{j+1} - u_{i}^{j}}{\\Delta t} = \\nu \\frac{u_{i+1}^j - 2 u_{i}^{j} + u_{i-1}^{j}}{(\\Delta x)^2} \n",
    "$$\n",
    "\n",
    "$$\n",
    "u_{i}^{j+1} = \\nu\\alpha u_{i+1}^{j} + (1 - 2\\nu\\alpha)u_{i}^{j} + \\nu\\alpha u_{i-1}^{j}\n",
    "$$\n",
    "\n",
    "where $\\alpha = \\Delta t/ (\\Delta x)^2$."
   ]
  },
  {
   "cell_type": "markdown",
   "metadata": {},
   "source": [
    "Vamos a utilizar los mismos n_x y n_t del ejemplo en clase, discretizando para x y t. Asi mismo para c y sigma. "
   ]
  },
  {
   "cell_type": "code",
   "execution_count": 46,
   "metadata": {
    "collapsed": false
   },
   "outputs": [
    {
     "name": "stdout",
     "output_type": "stream",
     "text": [
      "0.000427281952679\n"
     ]
    }
   ],
   "source": [
    "n_x = 80\n",
    "n_t = 100\n",
    "\n",
    "c = 1.0\n",
    "nu = 0.3\n",
    "sigma = 0.2 #sigma is a parameter to ensure \\alpha\\nu < 0.5 garantiza que converge para que no se pierda un elemento de un orde\n",
    "\n",
    "x = linspace(0, 2.0, n_x)\n",
    "dx = x[1]-x[0]\n",
    "\n",
    "\n",
    "dt = sigma*dx**2/nu #dt is defined using sigma, despejar de la ec de alpha\n",
    "alpha = dt/dx**2\n",
    "print dt\n",
    "\n",
    "u = ones(n_x)\n",
    "\n",
    "u[where((x<1.25) & (x>0.75))] = 2.0"
   ]
  },
  {
   "cell_type": "code",
   "execution_count": null,
   "metadata": {
    "collapsed": false
   },
   "outputs": [],
   "source": []
  },
  {
   "cell_type": "code",
   "execution_count": 58,
   "metadata": {
    "collapsed": false
   },
   "outputs": [],
   "source": [
    "for n in range(n_t):  # loop over time\n",
    "    u_past = u.copy() \n",
    "    for i in range(1,n_x-1): #loop over space\n",
    "        u[i] = nu * alpha * u_past[i+1]  + (1.0 - 2.0*nu*alpha)*u_past[i] + nu*alpha*u_past[i-1] #copiar la funcion"
   ]
  },
  {
   "cell_type": "code",
   "execution_count": null,
   "metadata": {
    "collapsed": false
   },
   "outputs": [],
   "source": []
  },
  {
   "cell_type": "code",
   "execution_count": 1,
   "metadata": {
    "collapsed": false
   },
   "outputs": [
    {
     "name": "stdout",
     "output_type": "stream",
     "text": [
      "Populating the interactive namespace from numpy and matplotlib\n"
     ]
    }
   ],
   "source": [
    "%pylab inline\n",
    "import numpy as np\n"
   ]
  },
  {
   "cell_type": "markdown",
   "metadata": {},
   "source": [
    "### Ecuacion Difusion en Reactor Tubular"
   ]
  },
  {
   "cell_type": "markdown",
   "metadata": {},
   "source": [
    "Tenemos las ecuacione que describen el intercambio de calor entre 2 fluidos en un reactor tubular, considerando despreciable el ancho del mismo, de la siguiente manera:\n",
    "Es fácil ver que ya que cr=0 para r=0, entonces crr cuando r tiene a 0 es un límite de la forma 0/0. De ello, podemos usar la regla de l'opital derivando arriba y abajo de lo cual obtenemos rápidamente que podemos reemplazar cr/r=crr para r tendiendo a 0.\n",
    "\n",
    "Por un proceso similar es también fácil ver que ya que Tr=0 en r=0 entonces Trr=Trr.\n",
    "\n",
    "De esto las nuevas funciones para r=0 van a ser:\n",
    "ct=−vcz+D(czz+2crr)−r(c,T)\n",
    "ct=−vTz+λpcpD(Tzz+2Trr)−ΔHpcpr(c,T)"
   ]
  },
  {
   "cell_type": "code",
   "execution_count": 2,
   "metadata": {
    "collapsed": false
   },
   "outputs": [],
   "source": [
    "#definicion de constantes, variables y pasos de cada ecuación diferencial\n",
    "n_x = 100\n",
    "n_t = 100\n",
    "L = 30 #esos son los valores que toca ver para un caso determinado\n",
    "R = 1 # radio reservorio\n",
    "\n",
    "r = np.linspace(0.0,R,n_x)\n",
    "z = np.linspace(0.0,L,n_x)\n",
    "\n",
    "dr = r[1]-r[0]\n",
    "dz = z[1]-z[0]\n",
    "\n",
    "#trate de hacer el dt como en la wave equation pero no veo como despejarlo, entonces lo definiremos a ojo\n",
    "dt = 0.01\n",
    "d_H = 1 #entalpia\n",
    "C_p = 1 #calor especifico\n",
    "rho = 1 #densidad\n",
    "T_w = 2 #temperatura del reservorio\n",
    "lamda = 1\n",
    "k_0 = 10\n",
    "E = 10\n",
    "D = 1 #difusividad\n",
    "\n"
   ]
  },
  {
   "cell_type": "code",
   "execution_count": 3,
   "metadata": {
    "collapsed": false
   },
   "outputs": [],
   "source": [
    "#Funcion r \n",
    "def rf(c1, T1): \n",
    "    return k_0 + exp(-E/(R*T1))*(c1**2)\n",
    "\n",
    "#Funcion v\n",
    "def v_over_vmax(r1):\n",
    "    return (1-(r1/R)**2)"
   ]
  },
  {
   "cell_type": "code",
   "execution_count": 15,
   "metadata": {
    "collapsed": false
   },
   "outputs": [],
   "source": [
    "#declaramos ahora las discretizaciones, inicializamos los arreglos para las soluciones encontradas\n",
    "T_0= np.ones((n_x, n_x))\n",
    "c_0= np.ones((n_x, n_x))\n",
    "\n",
    "T_past = np.zeros((n_x, n_x))\n",
    "T_pres = T_in\n",
    "\n",
    "c_past = np.zeros((n_x, n_x))\n",
    "c_pres = c_in\n",
    "\n",
    "#ahora definimos las condiciones de frontera en cada caso\n",
    "                           \n",
    "#f es la funcion que queremos derivar, i es r, j es z. Estas son las primeras derivadas\n",
    "\n",
    "def derivada1_r(f,i,j,h,lamda):\n",
    "                \n",
    "    if(i==len(f)): #cuando R=r\n",
    "        return (h/lamda)*(Tw - f(i,j))\n",
    "    elif(i == 0):\n",
    "        return 0\n",
    "    else:\n",
    "        return (f(i+1,j)-f(i-1, j))/(2*dr) \n",
    "\n",
    "def derivada1_z(f,i,j):\n",
    "                \n",
    "    if(j==len(f)):\n",
    "        return 0\n",
    "    elif(j == 0):\n",
    "        return 0\n",
    "    else:\n",
    "        return (f(i,j+1)-f(i,j-1))/(2*dz) \n",
    "\n",
    "#f es la funcion que queremos derivar, i es r, j es z. Estas son las segundas derivadas. \n",
    "def derivada2_r(f, i, j):\n",
    "    \n",
    "    if(i==len(f)):\n",
    "        return (h/lamda)*(Tw - f(i,j))\n",
    "    elif(i == 0):\n",
    "        return 0\n",
    "    return (f(i+1,j)+ 2*f(i,j)-f(i-1,j))/(2*dr) \n",
    "\n",
    "def derivada2_z(f,i,j):\n",
    "         \n",
    "    if(j == len(f)):\n",
    "        return 0\n",
    "    elif(j == 0):\n",
    "        return 0\n",
    "    return (f(i,j+1)+2*f(i,j)-f(i,j-1))/(2*dz)  \n",
    "\n",
    "#aca no estoy segura si hacerlas por separado o en una sola funcion que derive para cada caso"
   ]
  },
  {
   "cell_type": "code",
   "execution_count": 28,
   "metadata": {
    "collapsed": false
   },
   "outputs": [
    {
     "ename": "TypeError",
     "evalue": "'numpy.ndarray' object is not callable",
     "output_type": "error",
     "traceback": [
      "\u001b[1;31m---------------------------------------------------------------------------\u001b[0m",
      "\u001b[1;31mTypeError\u001b[0m                                 Traceback (most recent call last)",
      "\u001b[1;32m<ipython-input-28-20af8552e297>\u001b[0m in \u001b[0;36m<module>\u001b[1;34m()\u001b[0m\n\u001b[0;32m     20\u001b[0m \u001b[1;33m\u001b[0m\u001b[0m\n\u001b[0;32m     21\u001b[0m             \u001b[1;32melse\u001b[0m\u001b[1;33m:\u001b[0m\u001b[1;33m\u001b[0m\u001b[0m\n\u001b[1;32m---> 22\u001b[1;33m                 \u001b[0mc_pres\u001b[0m \u001b[1;33m=\u001b[0m \u001b[0mdt\u001b[0m\u001b[1;33m*\u001b[0m\u001b[1;33m(\u001b[0m\u001b[0mc_past\u001b[0m\u001b[1;33m[\u001b[0m\u001b[0mi\u001b[0m\u001b[1;33m,\u001b[0m\u001b[0mj\u001b[0m\u001b[1;33m]\u001b[0m\u001b[1;33m)\u001b[0m \u001b[1;33m-\u001b[0m \u001b[0mv_over_vmax\u001b[0m\u001b[1;33m(\u001b[0m\u001b[0mr\u001b[0m\u001b[1;33m[\u001b[0m\u001b[0mi\u001b[0m\u001b[1;33m]\u001b[0m\u001b[1;33m)\u001b[0m\u001b[1;33m*\u001b[0m\u001b[0mderivada1_z\u001b[0m\u001b[1;33m(\u001b[0m\u001b[0mc_past\u001b[0m\u001b[1;33m,\u001b[0m\u001b[0mi\u001b[0m\u001b[1;33m,\u001b[0m\u001b[0mj\u001b[0m\u001b[1;33m)\u001b[0m  \u001b[1;33m+\u001b[0m \u001b[0mD\u001b[0m\u001b[1;33m*\u001b[0m\u001b[1;33m(\u001b[0m\u001b[0mderivada2_z\u001b[0m\u001b[1;33m(\u001b[0m\u001b[0mc_past\u001b[0m\u001b[1;33m,\u001b[0m\u001b[0mi\u001b[0m\u001b[1;33m,\u001b[0m\u001b[0mj\u001b[0m\u001b[1;33m)\u001b[0m \u001b[1;33m+\u001b[0m \u001b[0mderivada2_r\u001b[0m\u001b[1;33m(\u001b[0m\u001b[0mc_past\u001b[0m\u001b[1;33m,\u001b[0m\u001b[0mi\u001b[0m\u001b[1;33m,\u001b[0m\u001b[0mj\u001b[0m\u001b[1;33m)\u001b[0m \u001b[1;33m+\u001b[0m \u001b[0mderivada1_r\u001b[0m\u001b[1;33m(\u001b[0m\u001b[0mc_past\u001b[0m\u001b[1;33m,\u001b[0m\u001b[0mi\u001b[0m\u001b[1;33m,\u001b[0m\u001b[0mj\u001b[0m\u001b[1;33m)\u001b[0m\u001b[1;33m/\u001b[0m\u001b[0mr\u001b[0m\u001b[1;33m[\u001b[0m\u001b[0mi\u001b[0m\u001b[1;33m]\u001b[0m\u001b[1;33m)\u001b[0m\u001b[1;33m-\u001b[0m \u001b[0mrf\u001b[0m\u001b[1;33m(\u001b[0m\u001b[0mc_past\u001b[0m\u001b[1;33m[\u001b[0m\u001b[0mi\u001b[0m\u001b[1;33m,\u001b[0m\u001b[0mj\u001b[0m\u001b[1;33m]\u001b[0m\u001b[1;33m,\u001b[0m\u001b[0mT_past\u001b[0m\u001b[1;33m[\u001b[0m\u001b[0mi\u001b[0m\u001b[1;33m,\u001b[0m\u001b[0mj\u001b[0m\u001b[1;33m]\u001b[0m\u001b[1;33m)\u001b[0m\u001b[1;33m\u001b[0m\u001b[0m\n\u001b[0m\u001b[0;32m     23\u001b[0m                 \u001b[0mT_pres\u001b[0m \u001b[1;33m=\u001b[0m \u001b[0mdt\u001b[0m\u001b[1;33m*\u001b[0m\u001b[1;33m(\u001b[0m\u001b[0mT_past\u001b[0m\u001b[1;33m[\u001b[0m\u001b[0mi\u001b[0m\u001b[1;33m,\u001b[0m\u001b[0mj\u001b[0m\u001b[1;33m]\u001b[0m\u001b[1;33m)\u001b[0m \u001b[1;33m-\u001b[0m \u001b[0mv_over_vmax\u001b[0m\u001b[1;33m(\u001b[0m\u001b[0mr\u001b[0m\u001b[1;33m[\u001b[0m\u001b[0mi\u001b[0m\u001b[1;33m]\u001b[0m\u001b[1;33m)\u001b[0m\u001b[1;33m*\u001b[0m\u001b[0mderivada1_z\u001b[0m\u001b[1;33m(\u001b[0m\u001b[0mT_past\u001b[0m\u001b[1;33m,\u001b[0m\u001b[0mi\u001b[0m\u001b[1;33m,\u001b[0m\u001b[0mj\u001b[0m\u001b[1;33m)\u001b[0m  \u001b[1;33m+\u001b[0m \u001b[1;33m(\u001b[0m\u001b[0mlamda\u001b[0m\u001b[1;33m/\u001b[0m\u001b[0mrho\u001b[0m\u001b[1;33m*\u001b[0m\u001b[0mC_p\u001b[0m\u001b[1;33m)\u001b[0m\u001b[1;33m*\u001b[0m\u001b[1;33m(\u001b[0m\u001b[0mderivada2_z\u001b[0m\u001b[1;33m(\u001b[0m\u001b[0mT_past\u001b[0m\u001b[1;33m,\u001b[0m\u001b[0mi\u001b[0m\u001b[1;33m,\u001b[0m\u001b[0mj\u001b[0m\u001b[1;33m)\u001b[0m \u001b[1;33m+\u001b[0m \u001b[0mderivada2_r\u001b[0m\u001b[1;33m(\u001b[0m\u001b[0mT_past\u001b[0m\u001b[1;33m,\u001b[0m\u001b[0mi\u001b[0m\u001b[1;33m,\u001b[0m\u001b[0mj\u001b[0m\u001b[1;33m)\u001b[0m \u001b[1;33m+\u001b[0m \u001b[0mderivada1_r\u001b[0m\u001b[1;33m(\u001b[0m\u001b[0mT_past\u001b[0m\u001b[1;33m,\u001b[0m\u001b[0mi\u001b[0m\u001b[1;33m,\u001b[0m\u001b[0mj\u001b[0m\u001b[1;33m)\u001b[0m\u001b[1;33m/\u001b[0m\u001b[0mr\u001b[0m\u001b[1;33m[\u001b[0m\u001b[0mi\u001b[0m\u001b[1;33m]\u001b[0m\u001b[1;33m)\u001b[0m\u001b[1;33m-\u001b[0m \u001b[1;33m(\u001b[0m\u001b[0md_H\u001b[0m\u001b[1;33m/\u001b[0m\u001b[0mrho\u001b[0m\u001b[1;33m*\u001b[0m\u001b[0mC_p\u001b[0m\u001b[1;33m)\u001b[0m\u001b[1;33m*\u001b[0m \u001b[0mrf\u001b[0m\u001b[1;33m(\u001b[0m\u001b[0mc_past\u001b[0m\u001b[1;33m[\u001b[0m\u001b[0mi\u001b[0m\u001b[1;33m,\u001b[0m\u001b[0mj\u001b[0m\u001b[1;33m]\u001b[0m\u001b[1;33m,\u001b[0m\u001b[0mT_past\u001b[0m\u001b[1;33m[\u001b[0m\u001b[0mi\u001b[0m\u001b[1;33m,\u001b[0m\u001b[0mj\u001b[0m\u001b[1;33m]\u001b[0m\u001b[1;33m)\u001b[0m\u001b[1;33m\u001b[0m\u001b[0m\n\u001b[0;32m     24\u001b[0m \u001b[1;33m\u001b[0m\u001b[0m\n",
      "\u001b[1;32m<ipython-input-15-e56c07ee988f>\u001b[0m in \u001b[0;36mderivada1_z\u001b[1;34m(f, i, j)\u001b[0m\n\u001b[0;32m     29\u001b[0m         \u001b[1;32mreturn\u001b[0m \u001b[1;36m0\u001b[0m\u001b[1;33m\u001b[0m\u001b[0m\n\u001b[0;32m     30\u001b[0m     \u001b[1;32melse\u001b[0m\u001b[1;33m:\u001b[0m\u001b[1;33m\u001b[0m\u001b[0m\n\u001b[1;32m---> 31\u001b[1;33m         \u001b[1;32mreturn\u001b[0m \u001b[1;33m(\u001b[0m\u001b[0mf\u001b[0m\u001b[1;33m(\u001b[0m\u001b[0mi\u001b[0m\u001b[1;33m,\u001b[0m\u001b[0mj\u001b[0m\u001b[1;33m+\u001b[0m\u001b[1;36m1\u001b[0m\u001b[1;33m)\u001b[0m\u001b[1;33m-\u001b[0m\u001b[0mf\u001b[0m\u001b[1;33m(\u001b[0m\u001b[0mi\u001b[0m\u001b[1;33m,\u001b[0m\u001b[0mj\u001b[0m\u001b[1;33m-\u001b[0m\u001b[1;36m1\u001b[0m\u001b[1;33m)\u001b[0m\u001b[1;33m)\u001b[0m\u001b[1;33m/\u001b[0m\u001b[1;33m(\u001b[0m\u001b[1;36m2\u001b[0m\u001b[1;33m*\u001b[0m\u001b[0mdz\u001b[0m\u001b[1;33m)\u001b[0m\u001b[1;33m\u001b[0m\u001b[0m\n\u001b[0m\u001b[0;32m     32\u001b[0m \u001b[1;33m\u001b[0m\u001b[0m\n\u001b[0;32m     33\u001b[0m \u001b[1;31m#f es la funcion que queremos derivar, i es r, j es z. Estas son las segundas derivadas.\u001b[0m\u001b[1;33m\u001b[0m\u001b[1;33m\u001b[0m\u001b[0m\n",
      "\u001b[1;31mTypeError\u001b[0m: 'numpy.ndarray' object is not callable"
     ]
    }
   ],
   "source": [
    "#aca es que tengo problemas, este for recorre en t y da los cambios para c y T. \n",
    "for t in range(n_t):\n",
    "    T_past = T_pres.copy()\n",
    "    c_past = c_pres.copy()\n",
    "    for i in range(1,n_x-1):\n",
    "        for j in range(1,n_x-1): #FALTAN CONDICIONES DE FRONTERA\n",
    "            a = 0\n",
    "            b = 0\n",
    "            c = 0\n",
    "            d = 0\n",
    "            if(r[i] == 0):\n",
    "                derivaa1_r(c_past,i,j) == a\n",
    "                derivada1_r(T_past,i,j) == a\n",
    "            elif(r[i] == R):\n",
    "                derivada1_r(c_past,i,j) == b\n",
    "                \n",
    "            if(z[j] == L):\n",
    "                c_pres == c\n",
    "                T_pres == d\n",
    "         \n",
    "            else:\n",
    "                c_pres = dt*(c_past[i,j]) - v_over_vmax(r[i])*derivada1_z(c_past,i,j)  + D*(derivada2_z(c_past,i,j) + derivada2_r(c_past,i,j) + derivada1_r(c_past,i,j)/r[i])- rf(c_past[i,j],T_past[i,j])                    \n",
    "                T_pres = dt*(T_past[i,j]) - v_over_vmax(r[i])*derivada1_z(T_past,i,j)  + (lamda/rho*C_p)*(derivada2_z(T_past,i,j) + derivada2_r(T_past,i,j) + derivada1_r(T_past,i,j)/r[i])- (d_H/rho*C_p)* rf(c_past[i,j],T_past[i,j])\n",
    "            \n",
    "         "
   ]
  },
  {
   "cell_type": "markdown",
   "metadata": {},
   "source": [
    "#Exercise\n",
    "\n",
    "1. Write a program in C to compute the solution of the 1D Burgers Equation.\n",
    "Make a program in Python to make a movie of the time evolution. Use the same initial conditions as above. \n",
    "\n",
    "2. Write a program in C to compute the solution of the 2D Burguers Equation.\n",
    "Make a program in Python to make a movie of the time evolution. Follow this: http://nbviewer.ipython.org/github/barbagroup/CFDPython/blob/master/lessons/10_Step_8.ipynb"
   ]
  },
  {
   "cell_type": "code",
   "execution_count": null,
   "metadata": {
    "collapsed": true
   },
   "outputs": [],
   "source": []
  }
 ],
 "metadata": {
  "kernelspec": {
   "display_name": "Python 2",
   "language": "python",
   "name": "python2"
  },
  "language_info": {
   "codemirror_mode": {
    "name": "ipython",
    "version": 2
   },
   "file_extension": ".py",
   "mimetype": "text/x-python",
   "name": "python",
   "nbconvert_exporter": "python",
   "pygments_lexer": "ipython2",
   "version": "2.7.6"
  }
 },
 "nbformat": 4,
 "nbformat_minor": 0
}
